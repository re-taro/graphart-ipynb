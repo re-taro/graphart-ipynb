{
  "nbformat": 4,
  "nbformat_minor": 0,
  "metadata": {
    "colab": {
      "name": "graphart-ipynb",
      "provenance": [],
      "collapsed_sections": [],
      "authorship_tag": "ABX9TyPStL6qPBlUbCCBtqsk8Nce",
      "include_colab_link": true
    },
    "kernelspec": {
      "name": "python3",
      "display_name": "Python 3"
    },
    "language_info": {
      "name": "python"
    }
  },
  "cells": [
    {
      "cell_type": "markdown",
      "metadata": {
        "id": "view-in-github",
        "colab_type": "text"
      },
      "source": [
        "<a href=\"https://colab.research.google.com/github/Re-taro/graphart-ipynb/blob/main/graphart.ipynb\" target=\"_parent\"><img src=\"https://colab.research.google.com/assets/colab-badge.svg\" alt=\"Open In Colab\"/></a>"
      ]
    },
    {
      "cell_type": "markdown",
      "metadata": {
        "id": "OZZwHwrQUctV"
      },
      "source": [
        "# 要件定義\n",
        "- 最低限のPython(numpy, matplotlib)の知識\n",
        "- ISOに基づいた数式の書き方\n",
        "\n",
        "# 初期仕様\n",
        "- 1:1のグラフが出力される : 変更したい場合は6,7行目を変更してください\n",
        "- 5*5間隔で点線の格子が出力される : 変更したい場合は9,10行目を変更してください\n",
        "- 表示範囲は50*50の第一象限 : 変更したい場合はコメントを確認してください\n",
        "- 点線の格子が表示される : 点線以外にしたい場合はコメントを確認、格子を消したい場合は15行目をコメントアウトしてください。\n",
        "- xの範囲は(-100. <= x <= 100.) : 変更する際は横の初期範囲をもとに変更してください\n",
        "- xの分割数は0.001 : ここは基本的に変更しないで良い\n",
        "- 式のフォーーマット\n",
        "```py\n",
        "y1 = x**2 + 2\n",
        "y2 = np.sin(x) \n",
        "```\n",
        "など\n",
        "- sinやlogなどはnumpyモジュールの関数を用いる : np.sin()、 np.log()など\n",
        "- πを用いる際はPIを使う\n",
        "- 出力する際の設定は (x, y1, x, y2, x, y3 ...) のように毎回(x,y)をペアで設定\n",
        "- 試し見する際は plt.show() を用いる。保存する際は plt.savefig() のコメントを外す。\n",
        "\n",
        "\n",
        "# TL;DR\n",
        "分からないからと言って私に聞くな。まずはググれ。わからないことはググって学んでください。E科はGoogle Colaboratoryを使ってるわけで、I科の人はC++をできるんだからこれより簡単なPythonはできてください。分からなければ調べましょう。システムエラーのみ対応します。"
      ]
    },
    {
      "cell_type": "code",
      "metadata": {
        "id": "kUjO8maN_3lN"
      },
      "source": [
        "import matplotlib\n",
        "import matplotlib.pyplot as plt\n",
        "import numpy as np\n",
        "import math\n",
        "\n",
        "ax = plt.axes(label='xxx')\n",
        "ax.set_aspect('equal')\n",
        "\n",
        "plt.xticks(np.arange(-100, 100, 5))\n",
        "plt.yticks(np.arange(-100, 100, 5))\n",
        "\n",
        "# 表示範囲を変更したい場合はここを変更してください\n",
        "plt.axis([0, 50, 0, 50])\n",
        "\n",
        "# フォーマット : (変更を適用する線, 色, 線のフォーマット)\n",
        "plt.grid(which='major', color='gray', linestyle='--')\n",
        "\n",
        "# xの範囲と分割値です基本は固定で良い。\n",
        "x = np.arange(-100., 100., 0.001)\n",
        "\n",
        "# こちらに式を入力してください\n",
        "\n",
        "\n",
        "# フォーマット: (x, 上の左辺1, x, 上の左辺2 ...)という書き方です\n",
        "plt.plot()\n",
        "\n",
        "# 表示\n",
        "plt.show()\n",
        "\n",
        "# 保存する際は plt.savefig() のコメントを外してください。\n",
        "#plt.savefig(\"plot.png\", dpi=300, bbox_inches='tight')"
      ],
      "execution_count": null,
      "outputs": []
    },
    {
      "cell_type": "markdown",
      "metadata": {
        "id": "H65xmmxIbdCO"
      },
      "source": [
        "# Usage"
      ]
    },
    {
      "cell_type": "code",
      "metadata": {
        "id": "gRBAIj9UbhaP"
      },
      "source": [
        "import matplotlib\n",
        "import matplotlib.pyplot as plt\n",
        "import numpy as np\n",
        "import math\n",
        "PI = np.pi\n",
        "\n",
        "ax = plt.axes(label='xxx')\n",
        "ax.set_aspect('equal')\n",
        "\n",
        "plt.xticks(np.arange(-100, 100, 4))\n",
        "plt.yticks(np.arange(-100, 100, 4))\n",
        "\n",
        "plt.axis([0, 20, 0, 20])\n",
        "\n",
        "plt.grid(which='major', color='gray', linestyle='--')\n",
        "\n",
        "x1 = np.arange(-100., 100., 0.001)\n",
        "t = np.linspace(0, 2*PI, 1000000)\n",
        "\n",
        "# こちらに式を入力してください\n",
        "# blue\n",
        "y1 = x**2 + 4*x + 8\n",
        "# orange\n",
        "y2 = np.sin(x + 10) + 5\n",
        "# green\n",
        "y3 = np.log(x)\n",
        "# red\n",
        "y4 = np.cos(x + 10) + 5\n",
        "# purple\n",
        "x2 = (1 + np.cos(t))*np.cos(t)\n",
        "y5 = (1 + np.cos(t))*np.sin(t)\n",
        "# brown\n",
        "x3 = (np.cos(t))**3\n",
        "y6 = (np.sin(t))**3\n",
        "\n",
        "plt.plot(x1, y1, x1, y2, x1, y3, x1, y4, x2, y5, x3, y6)\n",
        "\n",
        "# 表示\n",
        "#plt.show()\n",
        "\n",
        "plt.savefig(\"plot.png\", dpi=100, bbox_inches='tight')"
      ],
      "execution_count": null,
      "outputs": []
    },
    {
      "cell_type": "markdown",
      "metadata": {
        "id": "NfTIwAFSfojA"
      },
      "source": [
        "# Output\n",
        "![plot.png](data:image/png;base64,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)"
      ]
    },
    {
      "cell_type": "markdown",
      "metadata": {
        "id": "Y_Yp8qM2g1vu"
      },
      "source": [
        "# License\n",
        "graphart-ipynb is available under the MIT License."
      ]
    },
    {
      "cell_type": "markdown",
      "metadata": {
        "id": "p69L2UgyhaLs"
      },
      "source": [
        "# Code\n",
        "[Click here](https://github.com/Re-taro/graphart-ipynb)"
      ]
    }
  ]
}